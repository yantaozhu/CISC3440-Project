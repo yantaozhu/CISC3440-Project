{
  "nbformat": 4,
  "nbformat_minor": 0,
  "metadata": {
    "colab": {
      "provenance": []
    },
    "kernelspec": {
      "name": "python3",
      "display_name": "Python 3"
    },
    "language_info": {
      "name": "python"
    }
  },
  "cells": [
    {
      "cell_type": "code",
      "execution_count": 13,
      "metadata": {
        "id": "H06YL8tMO23g"
      },
      "outputs": [],
      "source": [
        "import numpy as np\n",
        "import pandas as pd\n",
        "import re\n",
        "from sklearn.datasets import fetch_20newsgroups\n",
        "from sklearn.model_selection import GridSearchCV\n",
        "from sklearn.feature_extraction.text import CountVectorizer, TfidfTransformer\n",
        "from sklearn.linear_model import LogisticRegression\n",
        "from sklearn.naive_bayes import MultinomialNB\n",
        "from sklearn import metrics\n",
        "import random"
      ]
    },
    {
      "cell_type": "code",
      "source": [
        "# Load the train and test dataset from Sklearn in random order without the \n",
        "# headers, footers, and quotes\n",
        "dataset_train = fetch_20newsgroups(subset='train', remove=(['headers', 'footers', 'quotes']), shuffle = True, random_state=100)\n",
        "dataset_test = fetch_20newsgroups(subset='test', remove=(['headers', 'footers', 'quotes']), shuffle = True, random_state=100)"
      ],
      "metadata": {
        "id": "-ujbghJ0O60c"
      },
      "execution_count": 27,
      "outputs": []
    },
    {
      "cell_type": "code",
      "source": [
        "# Perform preprocessing on the train and test set\n",
        "X_train = []\n",
        "for x in dataset_train.data:\n",
        "    x = re.sub('[^\\w]|_', ' ', str(x))\n",
        "    x = re.sub(r'[^\\x00-\\x7f]',r'', x)\n",
        "    X_train.append(x)\n",
        "\n",
        "y_train = []\n",
        "for y in dataset_train.target:\n",
        "    y_train.append(y)\n",
        "\n",
        "X_test = []\n",
        "for x in dataset_test.data:\n",
        "    x = re.sub('[^\\w]|_', ' ', str(x))\n",
        "    x = re.sub(r'[^\\x00-\\x7f]',r'', x)\n",
        "    X_test.append(x)\n",
        "\n",
        "y_test = []\n",
        "for y in dataset_test.target:\n",
        "    y_test.append(y)"
      ],
      "metadata": {
        "id": "IaI6EpdBO8RO"
      },
      "execution_count": 28,
      "outputs": []
    },
    {
      "cell_type": "code",
      "source": [
        "# Use the sklearn CountVectorizer to create a bag-of-words encoding of the\n",
        "# input. By default, the CountVectorizer will lowercase the input\n",
        "# strings. We manually specify that we only want the 10,000 most frequently\n",
        "# used words to appear in the output.\n",
        "cv = CountVectorizer(max_features = 10000)\n",
        "X_train_cv = cv.fit_transform(X_train)\n",
        "X_test_cv = cv.transform(X_test)"
      ],
      "metadata": {
        "id": "OdcvG_40PBY0"
      },
      "execution_count": 29,
      "outputs": []
    },
    {
      "cell_type": "code",
      "source": [
        "# Use the sklearn TfidfTransformer to compute the Tf-idf scores for evaluation.\n",
        "tf = TfidfTransformer()\n",
        "X_train_tf = tf.fit_transform(X_train_cv)\n",
        "X_test_tf = tf.transform(X_test_cv)"
      ],
      "metadata": {
        "id": "3ZeE8jrNPDCu"
      },
      "execution_count": 30,
      "outputs": []
    },
    {
      "cell_type": "code",
      "source": [
        "# Use the grid search to find the optimal hyperparameters for Logistic\n",
        "# Regression. We manually set max_iter to 1000 to ensure the logistic regressor\n",
        "# converges.\n",
        "lr_clf = LogisticRegression(max_iter = 1000)\n",
        "\n",
        "lr_grid = {\n",
        "    'C' : (50, 40, 30, 20, 10, 5, 1, 0.5, 0.1, 0.05, 0.01)\n",
        "}\n",
        "\n",
        "lr_grid_search = GridSearchCV(estimator = lr_clf, param_grid = lr_grid, cv = 2)\n",
        "lr_grid_search.fit(X_train_tf, y_train)\n",
        "print(lr_grid_search.best_params_) # Output: {'C': 10}"
      ],
      "metadata": {
        "colab": {
          "base_uri": "https://localhost:8080/"
        },
        "id": "Xik0iFkKQM45",
        "outputId": "bd77d044-3833-40f9-88db-dd6c6ff5b830"
      },
      "execution_count": 31,
      "outputs": [
        {
          "output_type": "stream",
          "name": "stdout",
          "text": [
            "{'C': 10}\n"
          ]
        }
      ]
    },
    {
      "cell_type": "code",
      "source": [
        "# Try the Logistic Regression with the optimal hyperparameters on the \n",
        "# bag-of-words encoded inputs. We should get an accuracy of approximately\n",
        "# 0.65 for Logistic Regression. \n",
        "lr_model = LogisticRegression(C = 10, max_iter = 1000)\n",
        "lr_model.fit(X_train_tf, y_train)\n",
        "lr_pred = lr_model.predict(X_test_tf)\n",
        "print(metrics.classification_report(y_test, lr_pred, target_names = dataset_train.target_names))"
      ],
      "metadata": {
        "colab": {
          "base_uri": "https://localhost:8080/"
        },
        "id": "jl26vAtFQN6f",
        "outputId": "9ad7400c-6166-48b2-e759-1d6993ab3ca4"
      },
      "execution_count": 32,
      "outputs": [
        {
          "output_type": "stream",
          "name": "stdout",
          "text": [
            "                          precision    recall  f1-score   support\n",
            "\n",
            "             alt.atheism       0.49      0.47      0.48       319\n",
            "           comp.graphics       0.61      0.66      0.63       389\n",
            " comp.os.ms-windows.misc       0.60      0.59      0.59       394\n",
            "comp.sys.ibm.pc.hardware       0.59      0.60      0.59       392\n",
            "   comp.sys.mac.hardware       0.70      0.64      0.67       385\n",
            "          comp.windows.x       0.80      0.65      0.72       395\n",
            "            misc.forsale       0.75      0.77      0.76       390\n",
            "               rec.autos       0.68      0.67      0.67       396\n",
            "         rec.motorcycles       0.73      0.73      0.73       398\n",
            "      rec.sport.baseball       0.51      0.79      0.62       397\n",
            "        rec.sport.hockey       0.87      0.84      0.86       399\n",
            "               sci.crypt       0.81      0.67      0.74       396\n",
            "         sci.electronics       0.54      0.54      0.54       393\n",
            "                 sci.med       0.74      0.71      0.72       396\n",
            "               sci.space       0.72      0.71      0.71       394\n",
            "  soc.religion.christian       0.65      0.75      0.69       398\n",
            "      talk.politics.guns       0.57      0.63      0.59       364\n",
            "   talk.politics.mideast       0.78      0.71      0.74       376\n",
            "      talk.politics.misc       0.53      0.45      0.49       310\n",
            "      talk.religion.misc       0.38      0.32      0.35       251\n",
            "\n",
            "                accuracy                           0.65      7532\n",
            "               macro avg       0.65      0.64      0.65      7532\n",
            "            weighted avg       0.66      0.65      0.65      7532\n",
            "\n"
          ]
        }
      ]
    },
    {
      "cell_type": "code",
      "source": [
        "# Use the grid search to find the optimal hyperparameters for MultinomialNB.\n",
        "mnb_clf = MultinomialNB()\n",
        "\n",
        "mnb_grid = {\n",
        "    'alpha': (10, 5, 1, 0.5, 0.1, 0.05, 0.01, 0.005, 0.001, 0.0005, 0.0001)\n",
        "}\n",
        "\n",
        "mnb_grid_search = GridSearchCV(estimator = mnb_clf, param_grid = mnb_grid, cv = 2)\n",
        "mnb_grid_search.fit(X_train_tf, y_train)\n",
        "print(mnb_grid_search.best_params_) # Output: {'alpha': 0.05}"
      ],
      "metadata": {
        "colab": {
          "base_uri": "https://localhost:8080/"
        },
        "id": "A0XsgUaiAwt3",
        "outputId": "8576d641-4772-40b9-bfed-9d161101aa07"
      },
      "execution_count": 33,
      "outputs": [
        {
          "output_type": "stream",
          "name": "stdout",
          "text": [
            "{'alpha': 0.05}\n"
          ]
        }
      ]
    },
    {
      "cell_type": "code",
      "source": [
        "# Try the MultinomialNB with the optimal hyperparameters on the bag-of-words\n",
        "# encoded inputs. We should get an accuracy of approximately 0.68 for\n",
        "# MultinomialNB. \n",
        "mnb_model = MultinomialNB(alpha = 0.05)\n",
        "mnb_model.fit(X_train_tf, y_train)\n",
        "mnb_pred = mnb_model.predict(X_test_tf)\n",
        "print(metrics.classification_report(y_test, mnb_pred, target_names = dataset_train.target_names))"
      ],
      "metadata": {
        "colab": {
          "base_uri": "https://localhost:8080/"
        },
        "id": "BHVHOU3ZYJSZ",
        "outputId": "aafd1983-70cd-4150-c3ed-c78b4d9ee86a"
      },
      "execution_count": 34,
      "outputs": [
        {
          "output_type": "stream",
          "name": "stdout",
          "text": [
            "                          precision    recall  f1-score   support\n",
            "\n",
            "             alt.atheism       0.47      0.44      0.46       319\n",
            "           comp.graphics       0.60      0.70      0.65       389\n",
            " comp.os.ms-windows.misc       0.64      0.56      0.60       394\n",
            "comp.sys.ibm.pc.hardware       0.59      0.66      0.62       392\n",
            "   comp.sys.mac.hardware       0.69      0.63      0.66       385\n",
            "          comp.windows.x       0.79      0.74      0.76       395\n",
            "            misc.forsale       0.80      0.75      0.77       390\n",
            "               rec.autos       0.73      0.70      0.72       396\n",
            "         rec.motorcycles       0.73      0.73      0.73       398\n",
            "      rec.sport.baseball       0.88      0.79      0.83       397\n",
            "        rec.sport.hockey       0.58      0.90      0.71       399\n",
            "               sci.crypt       0.79      0.71      0.75       396\n",
            "         sci.electronics       0.64      0.54      0.59       393\n",
            "                 sci.med       0.82      0.76      0.79       396\n",
            "               sci.space       0.76      0.74      0.75       394\n",
            "  soc.religion.christian       0.55      0.84      0.67       398\n",
            "      talk.politics.guns       0.56      0.72      0.63       364\n",
            "   talk.politics.mideast       0.82      0.78      0.80       376\n",
            "      talk.politics.misc       0.58      0.42      0.48       310\n",
            "      talk.religion.misc       0.51      0.16      0.25       251\n",
            "\n",
            "                accuracy                           0.68      7532\n",
            "               macro avg       0.68      0.66      0.66      7532\n",
            "            weighted avg       0.68      0.68      0.67      7532\n",
            "\n"
          ]
        }
      ]
    },
    {
      "cell_type": "markdown",
      "source": [
        "Using dataset that is not been process by the TfidfTransformer"
      ],
      "metadata": {
        "id": "SkBMEDRH_59m"
      }
    },
    {
      "cell_type": "code",
      "source": [
        "# Use the grid search to find the optimal hyperparameters for Logistic\n",
        "# Regression with dataset that is not been process by the TfidfTransformer.\n",
        "\n",
        "lr_clf = LogisticRegression(max_iter = 1000)\n",
        "\n",
        "lr_grid = {\n",
        "    'C' : (50, 40, 30, 20, 10, 5, 1, 0.5, 0.1, 0.05, 0.01)\n",
        "}\n",
        "\n",
        "lr_grid_search = GridSearchCV(estimator = lr_clf, param_grid = lr_grid, cv = 2)\n",
        "lr_grid_search.fit(X_train_cv, y_train)\n",
        "print(lr_grid_search.best_params_) # Output: {'C': 0.1}"
      ],
      "metadata": {
        "colab": {
          "base_uri": "https://localhost:8080/"
        },
        "id": "LZWECQ24AmWa",
        "outputId": "cd53dd83-f2b0-479c-bdbe-96423be9d014"
      },
      "execution_count": 36,
      "outputs": [
        {
          "output_type": "stream",
          "name": "stdout",
          "text": [
            "{'C': 0.1}\n"
          ]
        }
      ]
    },
    {
      "cell_type": "code",
      "source": [
        "# We should get an accuracy of approximately 0.59. \n",
        "lr_model = LogisticRegression(C = 0.1,max_iter = 1000)\n",
        "lr_model.fit(X_train_cv, y_train)\n",
        "lr_pred = lr_model.predict(X_test_cv)\n",
        "print(metrics.classification_report(y_test, lr_pred, target_names = dataset_train.target_names))"
      ],
      "metadata": {
        "colab": {
          "base_uri": "https://localhost:8080/"
        },
        "id": "0KZwJhwJAov7",
        "outputId": "ae91a9ee-ccea-4fc7-848c-a868c5274e0f"
      },
      "execution_count": 37,
      "outputs": [
        {
          "output_type": "stream",
          "name": "stdout",
          "text": [
            "                          precision    recall  f1-score   support\n",
            "\n",
            "             alt.atheism       0.41      0.40      0.41       319\n",
            "           comp.graphics       0.55      0.62      0.59       389\n",
            " comp.os.ms-windows.misc       0.61      0.55      0.58       394\n",
            "comp.sys.ibm.pc.hardware       0.59      0.53      0.56       392\n",
            "   comp.sys.mac.hardware       0.65      0.59      0.62       385\n",
            "          comp.windows.x       0.76      0.60      0.67       395\n",
            "            misc.forsale       0.72      0.77      0.74       390\n",
            "               rec.autos       0.58      0.61      0.60       396\n",
            "         rec.motorcycles       0.56      0.67      0.61       398\n",
            "      rec.sport.baseball       0.39      0.74      0.51       397\n",
            "        rec.sport.hockey       0.83      0.79      0.81       399\n",
            "               sci.crypt       0.79      0.59      0.67       396\n",
            "         sci.electronics       0.48      0.50      0.49       393\n",
            "                 sci.med       0.67      0.59      0.63       396\n",
            "               sci.space       0.63      0.66      0.65       394\n",
            "  soc.religion.christian       0.69      0.64      0.66       398\n",
            "      talk.politics.guns       0.51      0.55      0.53       364\n",
            "   talk.politics.mideast       0.74      0.63      0.68       376\n",
            "      talk.politics.misc       0.47      0.34      0.39       310\n",
            "      talk.religion.misc       0.31      0.25      0.27       251\n",
            "\n",
            "                accuracy                           0.59      7532\n",
            "               macro avg       0.60      0.58      0.58      7532\n",
            "            weighted avg       0.61      0.59      0.59      7532\n",
            "\n"
          ]
        }
      ]
    },
    {
      "cell_type": "code",
      "source": [
        "# Use the grid search to find the optimal hyperparameters for MultinomialNB with\n",
        "# dataset that is not been process by the TfidfTransformer.\n",
        "mnb_clf = MultinomialNB()\n",
        "\n",
        "mnb_grid = {\n",
        "    'alpha': (10, 5, 1, 0.5, 0.1, 0.05, 0.01, 0.005, 0.001, 0.0005, 0.0001)\n",
        "}\n",
        "\n",
        "mnb_grid_search = GridSearchCV(estimator = mnb_clf, param_grid = mnb_grid, cv = 2)\n",
        "mnb_grid_search.fit(X_train_cv, y_train)\n",
        "print(mnb_grid_search.best_params_) # Output: {'alpha': 0.05}"
      ],
      "metadata": {
        "colab": {
          "base_uri": "https://localhost:8080/"
        },
        "id": "l0a2dRzUAqt0",
        "outputId": "b6d50798-b2b6-4061-e42f-1ca0a3128268"
      },
      "execution_count": 38,
      "outputs": [
        {
          "output_type": "stream",
          "name": "stdout",
          "text": [
            "{'alpha': 0.05}\n"
          ]
        }
      ]
    },
    {
      "cell_type": "code",
      "source": [
        "# We should get an accuracy of approximately 0.61. \n",
        "mnb_model = MultinomialNB(alpha = 0.05)\n",
        "mnb_model.fit(X_train_cv, y_train)\n",
        "mnb_pred = mnb_model.predict(X_test_cv)\n",
        "print(metrics.classification_report(y_test, mnb_pred, target_names = dataset_train.target_names))"
      ],
      "metadata": {
        "colab": {
          "base_uri": "https://localhost:8080/"
        },
        "id": "XEAJr6BIAqzK",
        "outputId": "7b2d2a49-d813-46f5-9f41-0dac84035753"
      },
      "execution_count": 39,
      "outputs": [
        {
          "output_type": "stream",
          "name": "stdout",
          "text": [
            "                          precision    recall  f1-score   support\n",
            "\n",
            "             alt.atheism       0.41      0.51      0.45       319\n",
            "           comp.graphics       0.50      0.69      0.58       389\n",
            " comp.os.ms-windows.misc       0.33      0.00      0.01       394\n",
            "comp.sys.ibm.pc.hardware       0.48      0.66      0.56       392\n",
            "   comp.sys.mac.hardware       0.53      0.64      0.58       385\n",
            "          comp.windows.x       0.75      0.65      0.70       395\n",
            "            misc.forsale       0.82      0.73      0.77       390\n",
            "               rec.autos       0.65      0.68      0.67       396\n",
            "         rec.motorcycles       0.64      0.73      0.68       398\n",
            "      rec.sport.baseball       0.82      0.76      0.79       397\n",
            "        rec.sport.hockey       0.57      0.78      0.66       399\n",
            "               sci.crypt       0.76      0.69      0.72       396\n",
            "         sci.electronics       0.60      0.52      0.56       393\n",
            "                 sci.med       0.77      0.72      0.75       396\n",
            "               sci.space       0.76      0.68      0.72       394\n",
            "  soc.religion.christian       0.59      0.73      0.65       398\n",
            "      talk.politics.guns       0.54      0.63      0.58       364\n",
            "   talk.politics.mideast       0.78      0.66      0.72       376\n",
            "      talk.politics.misc       0.45      0.40      0.43       310\n",
            "      talk.religion.misc       0.31      0.24      0.27       251\n",
            "\n",
            "                accuracy                           0.61      7532\n",
            "               macro avg       0.60      0.60      0.59      7532\n",
            "            weighted avg       0.61      0.61      0.60      7532\n",
            "\n"
          ]
        }
      ]
    },
    {
      "cell_type": "markdown",
      "source": [
        "Using dataset with 10 ranodom classes"
      ],
      "metadata": {
        "id": "g2lz68ZiAGLB"
      }
    },
    {
      "cell_type": "code",
      "source": [
        "# Picking 10 random classes for text classification\n",
        "category_list = [\n",
        "    'alt.atheism',\n",
        "    'comp.graphics',\n",
        "    'comp.os.ms-windows.misc',\n",
        "    'comp.sys.ibm.pc.hardware',\n",
        "    'comp.sys.mac.hardware',\n",
        "    'comp.windows.x',\n",
        "    'misc.forsale',\n",
        "    'rec.autos',\n",
        "    'rec.motorcycles',\n",
        "    'rec.sport.baseball',\n",
        "    'rec.sport.hockey',\n",
        "    'sci.crypt',\n",
        "    'sci.electronics',\n",
        "    'sci.med',\n",
        "    'sci.space',\n",
        "    'soc.religion.christian',\n",
        "    'talk.politics.guns',\n",
        "    'talk.politics.mideast',\n",
        "    'talk.politics.misc',\n",
        "    'talk.religion.misc']\n",
        "\n",
        "category = random.choices(category_list, k = 10)\n",
        "print(category)"
      ],
      "metadata": {
        "colab": {
          "base_uri": "https://localhost:8080/"
        },
        "id": "XvPcD1PTUthD",
        "outputId": "7df68065-4368-4a70-9995-f0d6a47fdbbb"
      },
      "execution_count": 96,
      "outputs": [
        {
          "output_type": "stream",
          "name": "stdout",
          "text": [
            "['sci.electronics', 'soc.religion.christian', 'rec.sport.hockey', 'talk.religion.misc', 'comp.sys.ibm.pc.hardware', 'alt.atheism', 'misc.forsale', 'talk.politics.misc', 'rec.sport.baseball', 'rec.motorcycles']\n"
          ]
        }
      ]
    },
    {
      "cell_type": "code",
      "source": [
        "# Load the train and test dataset with the 10 random classes from Sklearn in\n",
        "# random order without the headers, footers, and quotes\n",
        "dataset_train = fetch_20newsgroups(subset='train', categories = category, remove=(['headers', 'footers', 'quotes']), shuffle = True, random_state=100)\n",
        "dataset_test = fetch_20newsgroups(subset='test', categories = category, remove=(['headers', 'footers', 'quotes']), shuffle = True, random_state=100)"
      ],
      "metadata": {
        "id": "85TtAGIs8Kj3"
      },
      "execution_count": 97,
      "outputs": []
    },
    {
      "cell_type": "code",
      "source": [
        "# Perform preprocessing on the train and test set\n",
        "X_train = []\n",
        "for x in dataset_train.data:\n",
        "    x = re.sub('[^\\w]|_', ' ', str(x))\n",
        "    x = re.sub(r'[^\\x00-\\x7f]',r'', x)\n",
        "    X_train.append(x)\n",
        "\n",
        "y_train = []\n",
        "for y in dataset_train.target:\n",
        "    y_train.append(y)\n",
        "\n",
        "X_test = []\n",
        "for x in dataset_test.data:\n",
        "    x = re.sub('[^\\w]|_', ' ', str(x))\n",
        "    x = re.sub(r'[^\\x00-\\x7f]',r'', x)\n",
        "    X_test.append(x)\n",
        "\n",
        "y_test = []\n",
        "for y in dataset_test.target:\n",
        "    y_test.append(y)"
      ],
      "metadata": {
        "id": "-jS898co8pMB"
      },
      "execution_count": 98,
      "outputs": []
    },
    {
      "cell_type": "code",
      "source": [
        "cv = CountVectorizer(max_features=10000)\n",
        "X_train_cv = cv.fit_transform(X_train)\n",
        "X_test_cv = cv.transform(X_test)"
      ],
      "metadata": {
        "id": "UDqvpmDg8reu"
      },
      "execution_count": 99,
      "outputs": []
    },
    {
      "cell_type": "code",
      "source": [
        "tf = TfidfTransformer()\n",
        "X_train_tf = tf.fit_transform(X_train_cv)\n",
        "X_test_tf = tf.transform(X_test_cv)"
      ],
      "metadata": {
        "id": "zCMqGO5wMOIA"
      },
      "execution_count": 100,
      "outputs": []
    },
    {
      "cell_type": "code",
      "source": [
        "lr_clf = LogisticRegression(max_iter = 1000)\n",
        "\n",
        "lr_grid = {\n",
        "    'C' : (50, 40, 30, 20, 10, 5, 1, 0.5, 0.1, 0.05, 0.01)\n",
        "}\n",
        "\n",
        "lr_grid_search = GridSearchCV(estimator = lr_clf, param_grid = lr_grid, cv = 2)\n",
        "lr_grid_search.fit(X_train_tf, y_train)\n",
        "print(lr_grid_search.best_params_) # Output: {'C': 10}"
      ],
      "metadata": {
        "colab": {
          "base_uri": "https://localhost:8080/"
        },
        "id": "buHW8NaG80wN",
        "outputId": "9d6616bf-28f8-440a-aa4a-b529447ef30b"
      },
      "execution_count": 101,
      "outputs": [
        {
          "output_type": "stream",
          "name": "stdout",
          "text": [
            "{'C': 10}\n"
          ]
        }
      ]
    },
    {
      "cell_type": "code",
      "source": [
        "# We should get an accuracy of approximately 0.72. \n",
        "lr_model = LogisticRegression(C = 10,max_iter = 1000)\n",
        "lr_model.fit(X_train_tf, y_train)\n",
        "lr_pred = lr_model.predict(X_test_tf)\n",
        "print(metrics.classification_report(y_test, lr_pred, target_names = dataset_train.target_names))"
      ],
      "metadata": {
        "colab": {
          "base_uri": "https://localhost:8080/"
        },
        "id": "L4i0c3VJ83jx",
        "outputId": "dbd36a14-ba03-43f3-ef36-d1bf2d233eea"
      },
      "execution_count": 102,
      "outputs": [
        {
          "output_type": "stream",
          "name": "stdout",
          "text": [
            "                          precision    recall  f1-score   support\n",
            "\n",
            "             alt.atheism       0.58      0.51      0.54       319\n",
            "comp.sys.ibm.pc.hardware       0.79      0.81      0.80       392\n",
            "            misc.forsale       0.85      0.82      0.83       390\n",
            "         rec.motorcycles       0.80      0.80      0.80       398\n",
            "      rec.sport.baseball       0.68      0.81      0.74       397\n",
            "        rec.sport.hockey       0.89      0.84      0.86       399\n",
            "         sci.electronics       0.72      0.70      0.71       393\n",
            "  soc.religion.christian       0.69      0.78      0.73       398\n",
            "      talk.politics.misc       0.71      0.60      0.65       310\n",
            "      talk.religion.misc       0.41      0.39      0.40       251\n",
            "\n",
            "                accuracy                           0.72      3647\n",
            "               macro avg       0.71      0.71      0.71      3647\n",
            "            weighted avg       0.73      0.72      0.72      3647\n",
            "\n"
          ]
        }
      ]
    },
    {
      "cell_type": "code",
      "source": [
        "mnb_clf = MultinomialNB()\n",
        "\n",
        "mnb_grid = {\n",
        "    'alpha': (10, 5, 1, 0.5, 0.1, 0.05, 0.01, 0.005, 0.001, 0.0005, 0.0001)\n",
        "}\n",
        "\n",
        "mnb_grid_search = GridSearchCV(estimator = mnb_clf, param_grid = mnb_grid, cv = 2)\n",
        "mnb_grid_search.fit(X_train_tf, y_train)\n",
        "print(mnb_grid_search.best_params_) # Output: {'alpha': 0.01}"
      ],
      "metadata": {
        "colab": {
          "base_uri": "https://localhost:8080/"
        },
        "id": "Gl5ncoC-BmsE",
        "outputId": "535b1e0f-9cf8-4821-d0d6-0198398a2b87"
      },
      "execution_count": 103,
      "outputs": [
        {
          "output_type": "stream",
          "name": "stdout",
          "text": [
            "{'alpha': 0.01}\n"
          ]
        }
      ]
    },
    {
      "cell_type": "code",
      "source": [
        "# We should get an accuracy of approximately 0.74. \n",
        "mnb_model = MultinomialNB(alpha = 0.01)\n",
        "mnb_model.fit(X_train_tf, y_train)\n",
        "mnb_pred = mnb_model.predict(X_test_tf)\n",
        "print(metrics.classification_report(y_test, mnb_pred, target_names=dataset_train.target_names))"
      ],
      "metadata": {
        "colab": {
          "base_uri": "https://localhost:8080/"
        },
        "id": "NGxCVPG8_w8q",
        "outputId": "8e18a03c-12cb-41c8-fd35-2c30676ca47a"
      },
      "execution_count": 104,
      "outputs": [
        {
          "output_type": "stream",
          "name": "stdout",
          "text": [
            "                          precision    recall  f1-score   support\n",
            "\n",
            "             alt.atheism       0.63      0.50      0.56       319\n",
            "comp.sys.ibm.pc.hardware       0.77      0.85      0.81       392\n",
            "            misc.forsale       0.87      0.79      0.83       390\n",
            "         rec.motorcycles       0.83      0.81      0.82       398\n",
            "      rec.sport.baseball       0.90      0.81      0.86       397\n",
            "        rec.sport.hockey       0.75      0.93      0.83       399\n",
            "         sci.electronics       0.75      0.69      0.72       393\n",
            "  soc.religion.christian       0.61      0.86      0.71       398\n",
            "      talk.politics.misc       0.72      0.61      0.66       310\n",
            "      talk.religion.misc       0.42      0.30      0.35       251\n",
            "\n",
            "                accuracy                           0.74      3647\n",
            "               macro avg       0.73      0.72      0.71      3647\n",
            "            weighted avg       0.74      0.74      0.73      3647\n",
            "\n"
          ]
        }
      ]
    },
    {
      "cell_type": "markdown",
      "source": [
        "Using dataset with 5 ranodom classes"
      ],
      "metadata": {
        "id": "bXstvjuSV1_3"
      }
    },
    {
      "cell_type": "code",
      "source": [
        "# Picking 5 random classes for text classification\n",
        "category_list = [\n",
        "    'alt.atheism',\n",
        "    'comp.graphics',\n",
        "    'comp.os.ms-windows.misc',\n",
        "    'comp.sys.ibm.pc.hardware',\n",
        "    'comp.sys.mac.hardware',\n",
        "    'comp.windows.x',\n",
        "    'misc.forsale',\n",
        "    'rec.autos',\n",
        "    'rec.motorcycles',\n",
        "    'rec.sport.baseball',\n",
        "    'rec.sport.hockey',\n",
        "    'sci.crypt',\n",
        "    'sci.electronics',\n",
        "    'sci.med',\n",
        "    'sci.space',\n",
        "    'soc.religion.christian',\n",
        "    'talk.politics.guns',\n",
        "    'talk.politics.mideast',\n",
        "    'talk.politics.misc',\n",
        "    'talk.religion.misc']\n",
        "\n",
        "category = random.choices(category_list, k = 5)\n",
        "print(category)"
      ],
      "metadata": {
        "colab": {
          "base_uri": "https://localhost:8080/"
        },
        "id": "AtYPRopUVxSf",
        "outputId": "2a34f7bc-a20e-49b4-8a9b-57c108bbc6dc"
      },
      "execution_count": 120,
      "outputs": [
        {
          "output_type": "stream",
          "name": "stdout",
          "text": [
            "['alt.atheism', 'comp.sys.ibm.pc.hardware', 'rec.sport.hockey', 'misc.forsale', 'sci.crypt']\n"
          ]
        }
      ]
    },
    {
      "cell_type": "code",
      "source": [
        "# Load the train and test dataset with the 5 random classes from Sklearn in\n",
        "# random order without the headers, footers, and quotes\n",
        "dataset_train = fetch_20newsgroups(subset='train', categories = category, remove=(['headers', 'footers', 'quotes']), shuffle = True, random_state=100)\n",
        "dataset_test = fetch_20newsgroups(subset='test', categories = category, remove=(['headers', 'footers', 'quotes']), shuffle = True, random_state=100)"
      ],
      "metadata": {
        "id": "3RfqzyNVV8C8"
      },
      "execution_count": 121,
      "outputs": []
    },
    {
      "cell_type": "code",
      "source": [
        "# Perform preprocessing on the train and test set\n",
        "X_train = []\n",
        "for x in dataset_train.data:\n",
        "    x = re.sub('[^\\w]|_', ' ', str(x))\n",
        "    x = re.sub(r'[^\\x00-\\x7f]',r'', x)\n",
        "    X_train.append(x)\n",
        "\n",
        "y_train = []\n",
        "for y in dataset_train.target:\n",
        "    y_train.append(y)\n",
        "\n",
        "X_test = []\n",
        "for x in dataset_test.data:\n",
        "    x = re.sub('[^\\w]|_', ' ', str(x))\n",
        "    x = re.sub(r'[^\\x00-\\x7f]',r'', x)\n",
        "    X_test.append(x)\n",
        "\n",
        "y_test = []\n",
        "for y in dataset_test.target:\n",
        "    y_test.append(y)"
      ],
      "metadata": {
        "id": "8NsdMv9VWBCT"
      },
      "execution_count": 122,
      "outputs": []
    },
    {
      "cell_type": "code",
      "source": [
        "cv = CountVectorizer(max_features=10000)\n",
        "X_train_cv = cv.fit_transform(X_train)\n",
        "X_test_cv = cv.transform(X_test)"
      ],
      "metadata": {
        "id": "szAuIT_TWEcg"
      },
      "execution_count": 123,
      "outputs": []
    },
    {
      "cell_type": "code",
      "source": [
        "tf = TfidfTransformer()\n",
        "X_train_tf = tf.fit_transform(X_train_cv)\n",
        "X_test_tf = tf.transform(X_test_cv)"
      ],
      "metadata": {
        "id": "fZ6Yy2dRWHVM"
      },
      "execution_count": 124,
      "outputs": []
    },
    {
      "cell_type": "code",
      "source": [
        "lr_clf = LogisticRegression(max_iter = 1000)\n",
        "\n",
        "lr_grid = {\n",
        "    'C' : (50, 40, 30, 20, 10, 5, 1, 0.5, 0.1, 0.05, 0.01)\n",
        "}\n",
        "\n",
        "lr_grid_search = GridSearchCV(estimator = lr_clf, param_grid = lr_grid, cv = 2)\n",
        "lr_grid_search.fit(X_train_tf, y_train)\n",
        "print(lr_grid_search.best_params_) # Output: {'C': 20}"
      ],
      "metadata": {
        "colab": {
          "base_uri": "https://localhost:8080/"
        },
        "id": "vVmy9ukSWJim",
        "outputId": "98d42a15-1c88-446a-edbc-fa7653e592f8"
      },
      "execution_count": 125,
      "outputs": [
        {
          "output_type": "stream",
          "name": "stdout",
          "text": [
            "{'C': 20}\n"
          ]
        }
      ]
    },
    {
      "cell_type": "code",
      "source": [
        "# We should get an accuracy of approximately 0.87. \n",
        "lr_model = LogisticRegression(C = 20,max_iter = 1000)\n",
        "lr_model.fit(X_train_tf, y_train)\n",
        "lr_pred = lr_model.predict(X_test_tf)\n",
        "print(metrics.classification_report(y_test, lr_pred, target_names = dataset_train.target_names))"
      ],
      "metadata": {
        "colab": {
          "base_uri": "https://localhost:8080/"
        },
        "id": "hPcPnpdUWL9Q",
        "outputId": "845d6f73-ffad-47bb-ca1d-512b00603bd7"
      },
      "execution_count": 126,
      "outputs": [
        {
          "output_type": "stream",
          "name": "stdout",
          "text": [
            "                          precision    recall  f1-score   support\n",
            "\n",
            "             alt.atheism       0.89      0.85      0.87       319\n",
            "comp.sys.ibm.pc.hardware       0.86      0.90      0.88       392\n",
            "            misc.forsale       0.88      0.84      0.86       390\n",
            "        rec.sport.hockey       0.83      0.92      0.87       399\n",
            "               sci.crypt       0.90      0.83      0.86       396\n",
            "\n",
            "                accuracy                           0.87      1896\n",
            "               macro avg       0.87      0.87      0.87      1896\n",
            "            weighted avg       0.87      0.87      0.87      1896\n",
            "\n"
          ]
        }
      ]
    },
    {
      "cell_type": "code",
      "source": [
        "mnb_clf = MultinomialNB()\n",
        "\n",
        "mnb_grid = {\n",
        "    'alpha': (10, 5, 1, 0.5, 0.1, 0.05, 0.01, 0.005, 0.001, 0.0005, 0.0001)\n",
        "}\n",
        "\n",
        "mnb_grid_search = GridSearchCV(estimator = mnb_clf, param_grid = mnb_grid, cv = 2)\n",
        "mnb_grid_search.fit(X_train_tf, y_train)\n",
        "print(mnb_grid_search.best_params_) # Output: {'alpha': 0.05}"
      ],
      "metadata": {
        "colab": {
          "base_uri": "https://localhost:8080/"
        },
        "id": "3rtRBDmgWMfD",
        "outputId": "3221866a-2c4b-465b-cc12-98f902d0e358"
      },
      "execution_count": 127,
      "outputs": [
        {
          "output_type": "stream",
          "name": "stdout",
          "text": [
            "{'alpha': 0.05}\n"
          ]
        }
      ]
    },
    {
      "cell_type": "code",
      "source": [
        "# We should get an accuracy of approximately 0.89. \n",
        "mnb_model = MultinomialNB(alpha = 0.05)\n",
        "mnb_model.fit(X_train_tf, y_train)\n",
        "mnb_pred = mnb_model.predict(X_test_tf)\n",
        "print(metrics.classification_report(y_test, mnb_pred, target_names=dataset_train.target_names))"
      ],
      "metadata": {
        "colab": {
          "base_uri": "https://localhost:8080/"
        },
        "id": "5n-JaSdHWMqj",
        "outputId": "5a732e82-26e7-43d8-dbf0-37930c6f150e"
      },
      "execution_count": 128,
      "outputs": [
        {
          "output_type": "stream",
          "name": "stdout",
          "text": [
            "                          precision    recall  f1-score   support\n",
            "\n",
            "             alt.atheism       0.92      0.85      0.88       319\n",
            "comp.sys.ibm.pc.hardware       0.86      0.93      0.89       392\n",
            "            misc.forsale       0.93      0.84      0.88       390\n",
            "        rec.sport.hockey       0.85      0.96      0.90       399\n",
            "               sci.crypt       0.90      0.86      0.88       396\n",
            "\n",
            "                accuracy                           0.89      1896\n",
            "               macro avg       0.89      0.89      0.89      1896\n",
            "            weighted avg       0.89      0.89      0.89      1896\n",
            "\n"
          ]
        }
      ]
    },
    {
      "cell_type": "markdown",
      "source": [
        "Using dataset with 3 ranodom classes"
      ],
      "metadata": {
        "id": "aFiKa-66X-Hh"
      }
    },
    {
      "cell_type": "code",
      "source": [
        "# Picking 3 random classes for text classification\n",
        "category_list = [\n",
        "    'alt.atheism',\n",
        "    'comp.graphics',\n",
        "    'comp.os.ms-windows.misc',\n",
        "    'comp.sys.ibm.pc.hardware',\n",
        "    'comp.sys.mac.hardware',\n",
        "    'comp.windows.x',\n",
        "    'misc.forsale',\n",
        "    'rec.autos',\n",
        "    'rec.motorcycles',\n",
        "    'rec.sport.baseball',\n",
        "    'rec.sport.hockey',\n",
        "    'sci.crypt',\n",
        "    'sci.electronics',\n",
        "    'sci.med',\n",
        "    'sci.space',\n",
        "    'soc.religion.christian',\n",
        "    'talk.politics.guns',\n",
        "    'talk.politics.mideast',\n",
        "    'talk.politics.misc',\n",
        "    'talk.religion.misc']\n",
        "\n",
        "category = random.choices(category_list, k = 3)\n",
        "print(category)"
      ],
      "metadata": {
        "colab": {
          "base_uri": "https://localhost:8080/"
        },
        "outputId": "6a9bce8f-9831-424a-c00c-897d27ef1b11",
        "id": "ur4RzpZxX7RD"
      },
      "execution_count": 163,
      "outputs": [
        {
          "output_type": "stream",
          "name": "stdout",
          "text": [
            "['rec.sport.hockey', 'talk.politics.misc', 'sci.space']\n"
          ]
        }
      ]
    },
    {
      "cell_type": "code",
      "source": [
        "# Load the train and test dataset with the 3 random classes from Sklearn in\n",
        "# random order without the headers, footers, and quotes\n",
        "dataset_train = fetch_20newsgroups(subset='train', categories = category, remove=(['headers', 'footers', 'quotes']), shuffle = True, random_state=100)\n",
        "dataset_test = fetch_20newsgroups(subset='test', categories = category, remove=(['headers', 'footers', 'quotes']), shuffle = True, random_state=100)"
      ],
      "metadata": {
        "id": "Lq2Ug9pzX7RD"
      },
      "execution_count": 164,
      "outputs": []
    },
    {
      "cell_type": "code",
      "source": [
        "# Perform preprocessing on the train and test set\n",
        "X_train = []\n",
        "for x in dataset_train.data:\n",
        "    x = re.sub('[^\\w]|_', ' ', str(x))\n",
        "    x = re.sub(r'[^\\x00-\\x7f]',r'', x)\n",
        "    X_train.append(x)\n",
        "\n",
        "y_train = []\n",
        "for y in dataset_train.target:\n",
        "    y_train.append(y)\n",
        "\n",
        "X_test = []\n",
        "for x in dataset_test.data:\n",
        "    x = re.sub('[^\\w]|_', ' ', str(x))\n",
        "    x = re.sub(r'[^\\x00-\\x7f]',r'', x)\n",
        "    X_test.append(x)\n",
        "\n",
        "y_test = []\n",
        "for y in dataset_test.target:\n",
        "    y_test.append(y)"
      ],
      "metadata": {
        "id": "xtsudx3_X7RE"
      },
      "execution_count": 165,
      "outputs": []
    },
    {
      "cell_type": "code",
      "source": [
        "cv = CountVectorizer(max_features=10000)\n",
        "X_train_cv = cv.fit_transform(X_train)\n",
        "X_test_cv = cv.transform(X_test)"
      ],
      "metadata": {
        "id": "1wbM2RLgX7RE"
      },
      "execution_count": 166,
      "outputs": []
    },
    {
      "cell_type": "code",
      "source": [
        "tf = TfidfTransformer()\n",
        "X_train_tf = tf.fit_transform(X_train_cv)\n",
        "X_test_tf = tf.transform(X_test_cv)"
      ],
      "metadata": {
        "id": "dRAmOdafX7RE"
      },
      "execution_count": 167,
      "outputs": []
    },
    {
      "cell_type": "code",
      "source": [
        "lr_clf = LogisticRegression(max_iter = 1000)\n",
        "\n",
        "lr_grid = {\n",
        "    'C' : (50, 40, 30, 20, 10, 5, 1, 0.5, 0.1, 0.05, 0.01)\n",
        "}\n",
        "\n",
        "lr_grid_search = GridSearchCV(estimator = lr_clf, param_grid = lr_grid, cv = 2)\n",
        "lr_grid_search.fit(X_train_tf, y_train)\n",
        "print(lr_grid_search.best_params_) # Output: {'C': 20}"
      ],
      "metadata": {
        "colab": {
          "base_uri": "https://localhost:8080/"
        },
        "outputId": "568b09f3-be7d-4e17-9c72-5e2fb60360cb",
        "id": "tCwpWb46X7RE"
      },
      "execution_count": 168,
      "outputs": [
        {
          "output_type": "stream",
          "name": "stdout",
          "text": [
            "{'C': 20}\n"
          ]
        }
      ]
    },
    {
      "cell_type": "code",
      "source": [
        "# We should get an accuracy of approximately 0.88. \n",
        "lr_model = LogisticRegression(C = 20,max_iter = 1000)\n",
        "lr_model.fit(X_train_tf, y_train)\n",
        "lr_pred = lr_model.predict(X_test_tf)\n",
        "print(metrics.classification_report(y_test, lr_pred, target_names = dataset_train.target_names))"
      ],
      "metadata": {
        "colab": {
          "base_uri": "https://localhost:8080/"
        },
        "outputId": "f90ee18f-4a4f-4831-8745-338181b72e87",
        "id": "l1ONRWFiX7RE"
      },
      "execution_count": 169,
      "outputs": [
        {
          "output_type": "stream",
          "name": "stdout",
          "text": [
            "                    precision    recall  f1-score   support\n",
            "\n",
            "  rec.sport.hockey       0.94      0.90      0.92       399\n",
            "         sci.space       0.85      0.91      0.88       394\n",
            "talk.politics.misc       0.86      0.83      0.84       310\n",
            "\n",
            "          accuracy                           0.88      1103\n",
            "         macro avg       0.88      0.88      0.88      1103\n",
            "      weighted avg       0.89      0.88      0.89      1103\n",
            "\n"
          ]
        }
      ]
    },
    {
      "cell_type": "code",
      "source": [
        "mnb_clf = MultinomialNB()\n",
        "\n",
        "mnb_grid = {\n",
        "    'alpha': (10, 5, 1, 0.5, 0.1, 0.05, 0.01, 0.005, 0.001, 0.0005, 0.0001)\n",
        "}\n",
        "\n",
        "mnb_grid_search = GridSearchCV(estimator = mnb_clf, param_grid = mnb_grid, cv = 2)\n",
        "mnb_grid_search.fit(X_train_tf, y_train)\n",
        "print(mnb_grid_search.best_params_) # Output: {'alpha': 0.005}"
      ],
      "metadata": {
        "colab": {
          "base_uri": "https://localhost:8080/"
        },
        "outputId": "b7aaf3d6-b410-495d-c5e1-2895e9e65ab9",
        "id": "jza5FDALX7RE"
      },
      "execution_count": 170,
      "outputs": [
        {
          "output_type": "stream",
          "name": "stdout",
          "text": [
            "{'alpha': 0.005}\n"
          ]
        }
      ]
    },
    {
      "cell_type": "code",
      "source": [
        "# We should get an accuracy of approximately 0.90. \n",
        "mnb_model = MultinomialNB(alpha = 0.005)\n",
        "mnb_model.fit(X_train_tf, y_train)\n",
        "mnb_pred = mnb_model.predict(X_test_tf)\n",
        "print(metrics.classification_report(y_test, mnb_pred, target_names=dataset_train.target_names))"
      ],
      "metadata": {
        "colab": {
          "base_uri": "https://localhost:8080/"
        },
        "outputId": "0b0dff1e-5813-4ab4-fb7c-18490780b01c",
        "id": "euWzp-KbX7RE"
      },
      "execution_count": 171,
      "outputs": [
        {
          "output_type": "stream",
          "name": "stdout",
          "text": [
            "                    precision    recall  f1-score   support\n",
            "\n",
            "  rec.sport.hockey       0.92      0.95      0.94       399\n",
            "         sci.space       0.91      0.88      0.89       394\n",
            "talk.politics.misc       0.87      0.86      0.86       310\n",
            "\n",
            "          accuracy                           0.90      1103\n",
            "         macro avg       0.90      0.90      0.90      1103\n",
            "      weighted avg       0.90      0.90      0.90      1103\n",
            "\n"
          ]
        }
      ]
    }
  ]
}